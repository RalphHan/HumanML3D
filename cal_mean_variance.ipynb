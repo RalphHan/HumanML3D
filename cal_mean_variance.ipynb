{
 "cells": [
  {
   "cell_type": "code",
   "execution_count": 1,
   "metadata": {},
   "outputs": [],
   "source": [
    "import numpy as np\n",
    "import sys\n",
    "import os\n",
    "from os.path import join as pjoin\n",
    "import pickle\n",
    "\n",
    "\n",
    "# root_rot_velocity (B, seq_len, 1)\n",
    "# root_linear_velocity (B, seq_len, 2)\n",
    "# root_y (B, seq_len, 1)\n",
    "# ric_data (B, seq_len, (joint_num - 1)*3)\n",
    "# rot_data (B, seq_len, (joint_num - 1)*6)\n",
    "# local_velocity (B, seq_len, joint_num*3)\n",
    "# foot contact (B, seq_len, 4)\n",
    "def mean_variance(data_dir, save_dir, joints_num):\n",
    "    file_list = os.listdir(data_dir)\n",
    "    data_list = []\n",
    "\n",
    "    for file in file_list:\n",
    "        data = pickle.load(open(data_dir+file,'rb'))\n",
    "        for person in [\"person1\",\"person2\"]:\n",
    "            bdata=data[person]\n",
    "            if np.isnan(bdata).any():\n",
    "                print(file)\n",
    "                continue\n",
    "            data_list.append(bdata)\n",
    "\n",
    "    data = np.concatenate(data_list, axis=0)\n",
    "    print(data.shape)\n",
    "    Mean = data.mean(axis=0)\n",
    "    Std = data.std(axis=0)\n",
    "    Std[0:1] = Std[0:1].mean() / 1.0\n",
    "    Std[1:3] = Std[1:3].mean() / 1.0\n",
    "    Std[3:4] = Std[3:4].mean() / 1.0\n",
    "    Std[4: 4+(joints_num - 1) * 3] = Std[4: 4+(joints_num - 1) * 3].mean() / 1.0\n",
    "    Std[4+(joints_num - 1) * 3: 4+(joints_num - 1) * 9] = Std[4+(joints_num - 1) * 3: 4+(joints_num - 1) * 9].mean() / 1.0\n",
    "    Std[4+(joints_num - 1) * 9: 4+(joints_num - 1) * 9 + joints_num*3] = Std[4+(joints_num - 1) * 9: 4+(joints_num - 1) * 9 + joints_num*3].mean() / 1.0\n",
    "    Std[4 + (joints_num - 1) * 9 + joints_num * 3: ] = Std[4 + (joints_num - 1) * 9 + joints_num * 3: ].mean() / 1.0\n",
    "\n",
    "    assert 8 + (joints_num - 1) * 9 + joints_num * 3 == Std.shape[-1]\n",
    "\n",
    "    np.save(pjoin(save_dir, 'Mean.npy'), Mean)\n",
    "    np.save(pjoin(save_dir, 'Std.npy'), Std)\n",
    "\n",
    "    return Mean, Std"
   ]
  },
  {
   "cell_type": "code",
   "execution_count": 4,
   "metadata": {},
   "outputs": [
    {
     "name": "stdout",
     "output_type": "stream",
     "text": [
      "(1487854, 263)\n"
     ]
    }
   ],
   "source": [
    "if __name__ == '__main__':\n",
    "    data_dir = 'dataset/inter-human/new_joint_vecs/'\n",
    "    save_dir = 'dataset/inter-human/'\n",
    "    mean, std = mean_variance(data_dir, save_dir, 22)\n"
   ]
  },
  {
   "cell_type": "code",
   "execution_count": null,
   "metadata": {},
   "outputs": [],
   "source": []
  }
 ],
 "metadata": {
  "kernelspec": {
   "display_name": "Python 3 (ipykernel)",
   "language": "python",
   "name": "python3"
  },
  "language_info": {
   "codemirror_mode": {
    "name": "ipython",
    "version": 3
   },
   "file_extension": ".py",
   "mimetype": "text/x-python",
   "name": "python",
   "nbconvert_exporter": "python",
   "pygments_lexer": "ipython3",
   "version": "3.8.15"
  }
 },
 "nbformat": 4,
 "nbformat_minor": 4
}
